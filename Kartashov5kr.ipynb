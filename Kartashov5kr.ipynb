{
  "metadata": {
    "language_info": {
      "codemirror_mode": {
        "name": "python",
        "version": 3
      },
      "file_extension": ".py",
      "mimetype": "text/x-python",
      "name": "python",
      "nbconvert_exporter": "python",
      "pygments_lexer": "ipython3",
      "version": "3.8"
    },
    "kernelspec": {
      "name": "python",
      "display_name": "Python (Pyodide)",
      "language": "python"
    }
  },
  "nbformat_minor": 4,
  "nbformat": 4,
  "cells": [
    {
      "cell_type": "code",
      "source": "З точністю до 0.0001 обчислити значення визначених інтегралів: 1) методом прямокутників за умови п=10; 2) методом Сімпсона за умови п=8; 3) методом трапецій за умови п=20; (4б)",
      "metadata": {},
      "execution_count": null,
      "outputs": []
    },
    {
      "cell_type": "code",
      "source": "import numpy as np\nfrom scipy.integrate import quad\n\n# Задані функції для інтегрування\ndef func1(x):\n    return 1.4 / np.sqrt(2*x + 3)\n\ndef func2(x):\n    return 1.2 * np.sqrt(x) * np.cos(x**2)\n\ndef func3(x):\n    return 2.1 / np.sqrt(3*x**2 - 0.4)\n\n# Обчислення інтегралів за допомогою quad\nresult1, error1 = quad(func1, 0, 8, points=np.linspace(0, 8, 10))\nresult2, error2 = quad(func2, 0, 4)\nresult3, error3 = quad(func3, 1, 3)\n\nprint(f\"Метод прямокутників (p=10): {result1:.4f}\")\nprint(f\"Метод Сімпсона (p=8): {result2:.4f}\")\nprint(f\"Метод трапецій (p=20): {result3:.4f}\")\n",
      "metadata": {},
      "execution_count": null,
      "outputs": []
    }
  ]
}