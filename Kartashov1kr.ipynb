{
  "metadata": {
    "language_info": {
      "codemirror_mode": {
        "name": "python",
        "version": 3
      },
      "file_extension": ".py",
      "mimetype": "text/x-python",
      "name": "python",
      "nbconvert_exporter": "python",
      "pygments_lexer": "ipython3",
      "version": "3.8"
    },
    "kernelspec": {
      "name": "python",
      "display_name": "Python (Pyodide)",
      "language": "python"
    }
  },
  "nbformat_minor": 4,
  "nbformat": 4,
  "cells": [
    {
      "cell_type": "code",
      "source": "#Перше завдання. Варіант 2. 2x^4 - 8x^3 - 16x^2 - 1 = 0\nimport numpy as np\n\ndef f(x):\n    return 2 * x**4 - 8 * x**3 - 16 * x**2 - 1\n\ndef df(x):\n    return 8 * x**3 - 24 * x**2 - 32 * x\n\ndef newton(prip, tochnist):\n    x = prip\n    iter = 0\n    while abs(f(x)) > tochnist:\n        x = x - f(x) / df(x)\n        iter += 1\n    return x, iter\n\ndef combined(prip, tochnist, maxiter):\n    x = prip\n    iter = 0\n    while abs(f(x)) > tochnist and iter < maxiter:\n        if abs(df(x)) > 1e-10:\n            x = x - f(x) / df(x)\n        else:\n            x = x - f(x) * 0.1 \n        iter += 1\n    return x, iter\n\nprip = 0.5\ntochnist = 0.001\nmaxiter = 1000\n\nnkorin, niter = newton(prip, tochnist)\nckorin, citer = combined(prip, tochnist, maxiter)\n\nprint(\"Метод Ньютона:\")\nprint(\"Корінь:\", nkorin)\nprint(\"Кількість ітерацій:\", niter)\n\nprint(\"\\nКомбінований метод:\")\nprint(\"Корінь:\", ckorin)\nprint(\"Кількість ітерацій:\", citer)\n",
      "metadata": {
        "trusted": true
      },
      "execution_count": 11,
      "outputs": [
        {
          "name": "stdout",
          "text": "Метод Ньютона:\nКорінь: -1.4961915025138517\nКількість ітерацій: 12\n\nКомбінований метод:\nКорінь: -1.4961915025138517\nКількість ітерацій: 12\n",
          "output_type": "stream"
        }
      ]
    },
    {
      "cell_type": "code",
      "source": "#Перше завдання. Варіант 2. 2x^4 + 4x^3 + x^2 + 3x - 6 = 0\nimport numpy as np\n\ndef f(x):\n    return 2 * x**4 + 4 * x**3 + x**2 + 3 * x - 6\n\ndef df(x):\n    return 8 * x**3 + 12 * x**2 + 2 * x + 3\n\ndef newton_method(prip, tochnist):\n    x = prip\n    iter = 0\n    while abs(f(x)) > tochnist:\n        x = x - f(x) / df(x)\n        iter += 1\n    return x, iter\n\ndef combined_method(prip, tochnist, maxiter):\n    x = prip\n    iter = 0\n    while abs(f(x)) > tochnist and iter < maxiter:\n        if abs(df(x)) > 1e-10:\n            x = x - f(x) / df(x)\n        else:\n            x = x - f(x) * 0.1\n        iter += 1\n    return x, iter\n\nprip = 0.5\ntochnist = 0.001\nmaxiter = 1000\n\nnkorin, niter = newton(prip, tochnist)\nckorin, citer = combined(prip, tochnist, maxiter)\n\nprint(\"Метод Ньютона:\")\nprint(\"Корінь:\", nkorin)\nprint(\"Кількість ітерацій:\", niter)\n\nprint(\"\\nКомбінований метод:\")\nprint(\"Корінь:\", ckorin)\nprint(\"Кількість ітерацій:\", citer)\n",
      "metadata": {
        "trusted": true
      },
      "execution_count": 15,
      "outputs": [
        {
          "name": "stdout",
          "text": "Метод Ньютона:\nКорінь: 0.8056315605868096\nКількість ітерацій: 4\n\nКомбінований метод:\nКорінь: 0.8056315605868096\nКількість ітерацій: 4\n",
          "output_type": "stream"
        }
      ]
    },
    {
      "cell_type": "code",
      "source": "",
      "metadata": {},
      "execution_count": null,
      "outputs": []
    }
  ]
}